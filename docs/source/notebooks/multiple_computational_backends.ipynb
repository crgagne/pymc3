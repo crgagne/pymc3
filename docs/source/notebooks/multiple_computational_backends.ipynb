{
 "cells": [
  {
   "cell_type": "markdown",
   "metadata": {
    "toc": true
   },
   "source": [
    "<h1>Table of Contents<span class=\"tocSkip\"></span></h1>\n",
    "<div class=\"toc\" style=\"margin-top: 1em;\"><ul class=\"toc-item\"><li><ul class=\"toc-item\"><li><span><a href=\"#Test-Case:-A-Motivating-Example:-Linear-Regression\" data-toc-modified-id=\"Test-Case:-A-Motivating-Example:-Linear-Regression-0.1\">Test Case: A Motivating Example: Linear Regression</a></span><ul class=\"toc-item\"><li><span><a href=\"#Running-with-Theano-backend-(restart-kernel-for-a-fresh-import)\" data-toc-modified-id=\"Running-with-Theano-backend-(restart-kernel-for-a-fresh-import)-0.1.1\">Running with Theano backend (restart kernel for a fresh import)</a></span></li><li><span><a href=\"#Running-with-TensorFlow-backend-(restart-kernel-for-a-fresh-import)\" data-toc-modified-id=\"Running-with-TensorFlow-backend-(restart-kernel-for-a-fresh-import)-0.1.2\">Running with TensorFlow backend (restart kernel for a fresh import)</a></span></li><li><span><a href=\"#Running-with-original-pymc3-code-(switch-to-master-and-restart-kernel)\" data-toc-modified-id=\"Running-with-original-pymc3-code-(switch-to-master-and-restart-kernel)-0.1.3\">Running with original pymc3 code (switch to master and restart kernel)</a></span></li></ul></li></ul></li></ul></div>"
   ]
  },
  {
   "cell_type": "markdown",
   "metadata": {},
   "source": [
    "## Test Case: A Motivating Example: Linear Regression"
   ]
  },
  {
   "cell_type": "markdown",
   "metadata": {},
   "source": [
    "### Running with Theano backend (restart kernel for a fresh import)\n",
    "\n",
    "Here I import the local PyMC3 package that I changed. I set the backend to be Theano. "
   ]
  },
  {
   "cell_type": "code",
   "execution_count": 4,
   "metadata": {},
   "outputs": [
    {
     "name": "stderr",
     "output_type": "stream",
     "text": [
      "Using Theano backend.\n"
     ]
    }
   ],
   "source": [
    "import os\n",
    "os.chdir('../../../')\n",
    "print(os.getcwd())\n",
    "import pymc3 as pm\n",
    "import numpy as np"
   ]
  },
  {
   "cell_type": "code",
   "execution_count": 5,
   "metadata": {
    "collapsed": true
   },
   "outputs": [],
   "source": [
    "# Initialize random number generator\n",
    "np.random.seed(123)\n",
    "\n",
    "# True parameter values\n",
    "alpha, sigma = 1, 1; beta = [1, 2.5]\n",
    "\n",
    "# Predictor variable\n",
    "X1 = np.random.randn(100)\n",
    "X2 = np.random.randn(100) * 0.2\n",
    "\n",
    "# Simulate outcome variable\n",
    "Y = alpha + beta[0]*X1 + beta[1]*X2 + np.random.randn(100)*sigma\n",
    "Y=Y.astype('float32')"
   ]
  },
  {
   "cell_type": "code",
   "execution_count": 6,
   "metadata": {},
   "outputs": [
    {
     "name": "stderr",
     "output_type": "stream",
     "text": [
      "Sequential sampling (1 chains in 1 job)\n",
      "CompoundStep\n",
      ">Metropolis: [beta]\n",
      ">Metropolis: [alpha]\n",
      "100%|██████████| 5500/5500 [00:01<00:00, 2781.44it/s]\n",
      "Only one chain was sampled, this makes it impossible to run some convergence checks\n"
     ]
    },
    {
     "name": "stdout",
     "output_type": "stream",
     "text": [
      "0.905453\n",
      "[ 0.9458999   2.60061359]\n"
     ]
    }
   ],
   "source": [
    "basic_model2 = pm.Model()\n",
    "with basic_model2:\n",
    "    alpha = pm.Normal(name='alpha',mu=0.0, sd=10.0) \n",
    "    beta = pm.Normal(name='beta', mu=0.0, sd=10.0, shape=2)\n",
    "\n",
    "    mu = alpha + beta[0]*X1 + beta[1]*X2\n",
    "\n",
    "    Y_obs = pm.Normal(name='Y_obs',mu=mu, sd=1.0, observed=Y)\n",
    "\n",
    "    step = pm.Metropolis()\n",
    "    trace = pm.sample(5000,step=step,cores=1,chains=1) # switched off parallel for simplifications. \n",
    "\n",
    "print(np.mean(trace['alpha']))\n",
    "print(np.mean(trace['beta'],axis=0))"
   ]
  },
  {
   "cell_type": "markdown",
   "metadata": {},
   "source": [
    "### Running with TensorFlow backend (restart kernel for a fresh import)\n",
    "\n",
    "After restarting the kernel, I import the local PyMC3 package again, but now I set the backend to be TensorFlow."
   ]
  },
  {
   "cell_type": "code",
   "execution_count": 1,
   "metadata": {},
   "outputs": [
    {
     "name": "stdout",
     "output_type": "stream",
     "text": [
      "/Users/chris/Desktop/pymc3\n"
     ]
    },
    {
     "name": "stderr",
     "output_type": "stream",
     "text": [
      "Using TensorFlow backend.\n"
     ]
    }
   ],
   "source": [
    "import os\n",
    "os.chdir('../../../')\n",
    "print(os.getcwd())\n",
    "import numpy as np\n",
    "os.environ[\"PYMC_SYMB_BACKEND\"] = \"tensorflow\" \n",
    "import pymc3 as pm"
   ]
  },
  {
   "cell_type": "code",
   "execution_count": 2,
   "metadata": {
    "collapsed": true
   },
   "outputs": [],
   "source": [
    "# Initialize random number generator\n",
    "np.random.seed(123)\n",
    "\n",
    "# True parameter values\n",
    "alpha, sigma = 1, 1; beta = [1, 2.5]\n",
    "\n",
    "# Predictor variable\n",
    "X1 = np.random.randn(100)\n",
    "X2 = np.random.randn(100) * 0.2\n",
    "\n",
    "# Simulate outcome variable\n",
    "Y = alpha + beta[0]*X1 + beta[1]*X2 + np.random.randn(100)*sigma\n",
    "Y=Y.astype('float32')"
   ]
  },
  {
   "cell_type": "code",
   "execution_count": 3,
   "metadata": {},
   "outputs": [
    {
     "name": "stderr",
     "output_type": "stream",
     "text": [
      "Sequential sampling (1 chains in 1 job)\n",
      "CompoundStep\n",
      ">Metropolis: [<tf.Variable 'alpha:0' shape=() dtype=float32_ref>]\n",
      ">Metropolis: [<tf.Variable 'beta:0' shape=(2,) dtype=float32_ref>]\n",
      "100%|██████████| 5500/5500 [00:12<00:00, 454.68it/s]\n",
      "Only one chain was sampled, this makes it impossible to run some convergence checks\n"
     ]
    },
    {
     "name": "stdout",
     "output_type": "stream",
     "text": [
      "0.905485\n",
      "[ 0.94781202  2.62093997]\n"
     ]
    }
   ],
   "source": [
    "basic_model2 = pm.Model()\n",
    "with basic_model2:\n",
    "    \n",
    "    # requires initial value now. \n",
    "    # also has to be float at the moment. \n",
    "    alpha = pm.Normal(name='alpha',initial_value=0.0, mu=0.0, sd=10.0) \n",
    "    beta = pm.Normal(name='beta',initial_value=np.array([1.0,1.0],dtype='float32'), mu=0.0, sd=10.0, shape=2)\n",
    "\n",
    "    mu = alpha + beta[0]*X1 + beta[1]*X2\n",
    "\n",
    "    Y_obs = pm.Normal(name='Y_obs',initial_value=np.ones_like(Y), mu=mu, sd=1.0, observed=Y)\n",
    "\n",
    "    step = pm.Metropolis()\n",
    "    trace = pm.sample(5000,step=step,cores=1,chains=1)\n",
    "\n",
    "print(np.mean(trace['alpha:0']))\n",
    "print(np.mean(trace['beta:0'],axis=0))"
   ]
  },
  {
   "cell_type": "markdown",
   "metadata": {},
   "source": [
    "### Running with original pymc3 code (switch to master and restart kernel)\n",
    "\n",
    "Here I import an unaltered PyMC3 package. "
   ]
  },
  {
   "cell_type": "code",
   "execution_count": 7,
   "metadata": {
    "collapsed": true
   },
   "outputs": [],
   "source": [
    "import numpy as np\n",
    "import os\n",
    "os.chdir('../../../')\n",
    "print(os.getcwd())\n",
    "import pymc3 as pm"
   ]
  },
  {
   "cell_type": "code",
   "execution_count": 9,
   "metadata": {
    "collapsed": true
   },
   "outputs": [],
   "source": [
    "# Initialize random number generator\n",
    "np.random.seed(123)\n",
    "\n",
    "# True parameter values\n",
    "alpha, sigma = 1, 1; beta = [1, 2.5]\n",
    "\n",
    "# Predictor variable\n",
    "X1 = np.random.randn(100)\n",
    "X2 = np.random.randn(100) * 0.2\n",
    "\n",
    "# Simulate outcome variable\n",
    "Y = alpha + beta[0]*X1 + beta[1]*X2 + np.random.randn(100)*sigma\n",
    "Y=Y.astype('float32')"
   ]
  },
  {
   "cell_type": "code",
   "execution_count": 10,
   "metadata": {},
   "outputs": [
    {
     "name": "stderr",
     "output_type": "stream",
     "text": [
      "Sequential sampling (1 chains in 1 job)\n",
      "CompoundStep\n",
      ">Metropolis: [beta]\n",
      ">Metropolis: [alpha]\n",
      "100%|██████████| 5500/5500 [00:01<00:00, 3819.80it/s]\n",
      "Only one chain was sampled, this makes it impossible to run some convergence checks\n"
     ]
    },
    {
     "name": "stdout",
     "output_type": "stream",
     "text": [
      "0.9054529\n",
      "[0.9458999 2.6006136]\n"
     ]
    }
   ],
   "source": [
    "basic_model2 = pm.Model()\n",
    "with basic_model2:\n",
    "    alpha = pm.Normal(name='alpha',mu=0.0, sd=10.0) \n",
    "    beta = pm.Normal(name='beta', mu=0.0, sd=10.0, shape=2)\n",
    "\n",
    "    mu = alpha + beta[0]*X1 + beta[1]*X2\n",
    "\n",
    "    Y_obs = pm.Normal(name='Y_obs',mu=mu, sd=1.0, observed=Y)\n",
    "\n",
    "    step = pm.Metropolis()\n",
    "    trace = pm.sample(5000,step=step,cores=1,chains=1) # switched off parallel for simplifications. \n",
    "\n",
    "print(np.mean(trace['alpha']))\n",
    "print(np.mean(trace['beta'],axis=0))"
   ]
  }
 ],
 "metadata": {
  "hide_input": false,
  "kernelspec": {
   "display_name": "Python 3",
   "language": "python",
   "name": "python3"
  },
  "language_info": {
   "codemirror_mode": {
    "name": "ipython",
    "version": 3
   },
   "file_extension": ".py",
   "mimetype": "text/x-python",
   "name": "python",
   "nbconvert_exporter": "python",
   "pygments_lexer": "ipython3",
   "version": "3.6.1"
  },
  "toc": {
   "nav_menu": {},
   "number_sections": false,
   "sideBar": true,
   "skip_h1_title": false,
   "toc_cell": true,
   "toc_position": {},
   "toc_section_display": "block",
   "toc_window_display": true
  }
 },
 "nbformat": 4,
 "nbformat_minor": 2
}
