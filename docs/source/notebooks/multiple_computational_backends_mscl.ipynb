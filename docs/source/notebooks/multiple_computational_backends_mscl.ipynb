{
 "cells": [
  {
   "cell_type": "markdown",
   "metadata": {
    "toc": true
   },
   "source": [
    "<h1>Table of Contents<span class=\"tocSkip\"></span></h1>\n",
    "<div class=\"toc\" style=\"margin-top: 1em;\"><ul class=\"toc-item\"><li><ul class=\"toc-item\"><li><span><a href=\"#Test-Case:-A-Motivating-Example:-Linear-Regression\" data-toc-modified-id=\"Test-Case:-A-Motivating-Example:-Linear-Regression-0.1\">Test Case: A Motivating Example: Linear Regression</a></span><ul class=\"toc-item\"><li><span><a href=\"#Running-with-Theano-backend-(restart-kernel-for-a-fresh-import)\" data-toc-modified-id=\"Running-with-Theano-backend-(restart-kernel-for-a-fresh-import)-0.1.1\">Running with Theano backend (restart kernel for a fresh import)</a></span></li><li><span><a href=\"#Running-with-TensorFlow-backend-(restart-kernel-for-a-fresh-import)\" data-toc-modified-id=\"Running-with-TensorFlow-backend-(restart-kernel-for-a-fresh-import)-0.1.2\">Running with TensorFlow backend (restart kernel for a fresh import)</a></span></li></ul></li></ul></li></ul></div>"
   ]
  },
  {
   "cell_type": "markdown",
   "metadata": {},
   "source": [
    "## Test Case: A Motivating Example: Linear Regression"
   ]
  },
  {
   "cell_type": "markdown",
   "metadata": {},
   "source": [
    "### Running with Theano backend (restart kernel for a fresh import)\n",
    "\n",
    "Here I import the local PyMC3 package that I changed. I set the backend to be Theano. "
   ]
  },
  {
   "cell_type": "code",
   "execution_count": 1,
   "metadata": {},
   "outputs": [
    {
     "name": "stdout",
     "output_type": "stream",
     "text": [
      "/Users/chris/Desktop/pymc3\n"
     ]
    },
    {
     "name": "stderr",
     "output_type": "stream",
     "text": [
      "Using Theano backend.\n"
     ]
    }
   ],
   "source": [
    "import os\n",
    "os.chdir('../../../')\n",
    "print(os.getcwd())\n",
    "import pymc3 as pm\n",
    "import numpy as np"
   ]
  },
  {
   "cell_type": "code",
   "execution_count": 2,
   "metadata": {
    "collapsed": true
   },
   "outputs": [],
   "source": [
    "# Initialize random number generator\n",
    "np.random.seed(123)\n",
    "\n",
    "# True parameter values\n",
    "alpha, sigma = 1, 1; beta = [1, 2.5]\n",
    "\n",
    "# Predictor variable\n",
    "X1 = np.random.randn(100)\n",
    "X2 = np.random.randn(100) * 0.2\n",
    "\n",
    "# Simulate outcome variable\n",
    "Y = alpha + beta[0]*X1 + beta[1]*X2 + np.random.randn(100)*sigma\n",
    "Y=Y.astype('float32')"
   ]
  },
  {
   "cell_type": "code",
   "execution_count": 3,
   "metadata": {},
   "outputs": [
    {
     "name": "stdout",
     "output_type": "stream",
     "text": [
      "> /Users/chris/Desktop/pymc3/pymc3/model.py(455)__init__()\n",
      "-> grad = tt.grad(self._cost_joined, self._vars_joined)\n",
      "(Pdb) n\n",
      "> /Users/chris/Desktop/pymc3/pymc3/model.py(459)__init__()\n",
      "-> grad.name = '__grad'\n",
      "(Pdb) n\n",
      "> /Users/chris/Desktop/pymc3/pymc3/model.py(461)__init__()\n",
      "-> inputs = [self._vars_joined]\n",
      "(Pdb) n\n",
      "> /Users/chris/Desktop/pymc3/pymc3/model.py(472)__init__()\n",
      "-> self._theano_function = S.function(inputs, [self._cost_joined, grad], givens=givens, **kwargs)\n",
      "(Pdb) n\n",
      "--Return--\n",
      "> /Users/chris/Desktop/pymc3/pymc3/model.py(472)__init__()->None\n",
      "-> self._theano_function = S.function(inputs, [self._cost_joined, grad], givens=givens, **kwargs)\n",
      "(Pdb) n\n",
      "--Return--\n",
      "> /Users/chris/Desktop/pymc3/pymc3/model.py(743)logp_dlogp_function()-><pymc3.model.... 0x1c1d47f3c8>\n",
      "-> return ValueGradFunction(self.logpt, grad_vars, extra_vars, **kwargs)\n",
      "(Pdb) n\n",
      "--Return--\n",
      "> /Users/chris/Desktop/pymc3/pymc3/step_methods/arraystep.py(231)__init__()->None\n",
      "-> vars, dtype=dtype, **theano_kwargs)\n",
      "(Pdb) n\n",
      "> /Users/chris/Desktop/pymc3/pymc3/step_methods/hmc/base_hmc.py(65)__init__()\n",
      "-> self.adapt_step_size = adapt_step_size\n",
      "(Pdb) n\n",
      "> /Users/chris/Desktop/pymc3/pymc3/step_methods/hmc/base_hmc.py(66)__init__()\n",
      "-> self.Emax = Emax\n",
      "(Pdb) adapt_step_size\n",
      "True\n",
      "(Pdb) Emax\n",
      "1000\n",
      "(Pdb) n\n",
      "> /Users/chris/Desktop/pymc3/pymc3/step_methods/hmc/base_hmc.py(67)__init__()\n",
      "-> self.iter_count = 0\n",
      "(Pdb) n\n",
      "> /Users/chris/Desktop/pymc3/pymc3/step_methods/hmc/base_hmc.py(68)__init__()\n",
      "-> size = self._logp_dlogp_func.size\n",
      "(Pdb) self._logp_dlogp_func.size\n",
      "3\n",
      "(Pdb) n\n",
      "> /Users/chris/Desktop/pymc3/pymc3/step_methods/hmc/base_hmc.py(70)__init__()\n",
      "-> self.step_size = step_scale / (size ** 0.25)\n",
      "(Pdb) step_scale\n",
      "0.25\n",
      "(Pdb) n\n",
      "> /Users/chris/Desktop/pymc3/pymc3/step_methods/hmc/base_hmc.py(71)__init__()\n",
      "-> self.target_accept = target_accept\n",
      "(Pdb) n\n",
      "> /Users/chris/Desktop/pymc3/pymc3/step_methods/hmc/base_hmc.py(72)__init__()\n",
      "-> self.step_adapt = step_sizes.DualAverageAdaptation(\n",
      "(Pdb) target_accept\n",
      "0.8\n",
      "(Pdb) n\n",
      "> /Users/chris/Desktop/pymc3/pymc3/step_methods/hmc/base_hmc.py(73)__init__()\n",
      "-> self.step_size, target_accept, gamma, k, t0)\n",
      "(Pdb) self.step_adapt\n",
      "*** AttributeError: 'NUTS' object has no attribute 'step_adapt'\n",
      "(Pdb) n\n",
      "> /Users/chris/Desktop/pymc3/pymc3/step_methods/hmc/base_hmc.py(75)__init__()\n",
      "-> self.tune = True\n",
      "(Pdb) self.step_adapt\n",
      "<pymc3.step_methods.step_sizes.DualAverageAdaptation object at 0x1c1d9348d0>\n",
      "(Pdb) n\n",
      "> /Users/chris/Desktop/pymc3/pymc3/step_methods/hmc/base_hmc.py(77)__init__()\n",
      "-> if scaling is None and potential is None:\n",
      "(Pdb) n\n",
      "> /Users/chris/Desktop/pymc3/pymc3/step_methods/hmc/base_hmc.py(78)__init__()\n",
      "-> mean = floatX(np.zeros(size))\n",
      "(Pdb) n\n",
      "> /Users/chris/Desktop/pymc3/pymc3/step_methods/hmc/base_hmc.py(79)__init__()\n",
      "-> var = floatX(np.ones(size))\n",
      "(Pdb) n\n",
      "> /Users/chris/Desktop/pymc3/pymc3/step_methods/hmc/base_hmc.py(80)__init__()\n",
      "-> potential = QuadPotentialDiagAdapt(size, mean, var, 10)\n",
      "(Pdb) n\n",
      "> /Users/chris/Desktop/pymc3/pymc3/step_methods/hmc/base_hmc.py(82)__init__()\n",
      "-> if isinstance(scaling, dict):\n",
      "(Pdb) n\n",
      "> /Users/chris/Desktop/pymc3/pymc3/step_methods/hmc/base_hmc.py(86)__init__()\n",
      "-> if scaling is not None and potential is not None:\n",
      "(Pdb) scaling\n",
      "(Pdb) n\n",
      "> /Users/chris/Desktop/pymc3/pymc3/step_methods/hmc/base_hmc.py(89)__init__()\n",
      "-> if potential is not None:\n",
      "(Pdb) potential\n",
      "<pymc3.step_methods.hmc.quadpotential.QuadPotentialDiagAdapt object at 0x1c1d4bc160>\n",
      "(Pdb) n\n",
      "> /Users/chris/Desktop/pymc3/pymc3/step_methods/hmc/base_hmc.py(90)__init__()\n",
      "-> self.potential = potential\n",
      "(Pdb) q\n"
     ]
    },
    {
     "ename": "BdbQuit",
     "evalue": "",
     "output_type": "error",
     "traceback": [
      "\u001b[0;31m---------------------------------------------------------------------------\u001b[0m",
      "\u001b[0;31mBdbQuit\u001b[0m                                   Traceback (most recent call last)",
      "\u001b[0;32m<ipython-input-3-08f7197f2cfc>\u001b[0m in \u001b[0;36m<module>\u001b[0;34m()\u001b[0m\n\u001b[1;32m      9\u001b[0m \u001b[0;34m\u001b[0m\u001b[0m\n\u001b[1;32m     10\u001b[0m     \u001b[0;31m#step = pm.Metropolis()\u001b[0m\u001b[0;34m\u001b[0m\u001b[0;34m\u001b[0m\u001b[0m\n\u001b[0;32m---> 11\u001b[0;31m     \u001b[0mstep\u001b[0m \u001b[0;34m=\u001b[0m \u001b[0mpm\u001b[0m\u001b[0;34m.\u001b[0m\u001b[0mNUTS\u001b[0m\u001b[0;34m(\u001b[0m\u001b[0;34m)\u001b[0m\u001b[0;34m\u001b[0m\u001b[0m\n\u001b[0m\u001b[1;32m     12\u001b[0m     \u001b[0mtrace\u001b[0m \u001b[0;34m=\u001b[0m \u001b[0mpm\u001b[0m\u001b[0;34m.\u001b[0m\u001b[0msample\u001b[0m\u001b[0;34m(\u001b[0m\u001b[0;36m5000\u001b[0m\u001b[0;34m,\u001b[0m\u001b[0mstep\u001b[0m\u001b[0;34m=\u001b[0m\u001b[0mstep\u001b[0m\u001b[0;34m,\u001b[0m\u001b[0mcores\u001b[0m\u001b[0;34m=\u001b[0m\u001b[0;36m1\u001b[0m\u001b[0;34m,\u001b[0m\u001b[0mchains\u001b[0m\u001b[0;34m=\u001b[0m\u001b[0;36m1\u001b[0m\u001b[0;34m)\u001b[0m \u001b[0;31m# switched off parallel for simplifications.\u001b[0m\u001b[0;34m\u001b[0m\u001b[0m\n\u001b[1;32m     13\u001b[0m \u001b[0;34m\u001b[0m\u001b[0m\n",
      "\u001b[0;32m/Users/chris/Desktop/pymc3/pymc3/step_methods/hmc/nuts.py\u001b[0m in \u001b[0;36m__init__\u001b[0;34m(self, vars, max_treedepth, early_max_treedepth, **kwargs)\u001b[0m\n\u001b[1;32m    150\u001b[0m         \u001b[0;31m`\u001b[0m\u001b[0mpm\u001b[0m\u001b[0;34m.\u001b[0m\u001b[0msample\u001b[0m\u001b[0;31m`\u001b[0m \u001b[0mto\u001b[0m \u001b[0mthe\u001b[0m \u001b[0mdesired\u001b[0m \u001b[0mnumber\u001b[0m \u001b[0mof\u001b[0m \u001b[0mtuning\u001b[0m \u001b[0msteps\u001b[0m\u001b[0;34m.\u001b[0m\u001b[0;34m\u001b[0m\u001b[0m\n\u001b[1;32m    151\u001b[0m         \"\"\"\n\u001b[0;32m--> 152\u001b[0;31m         \u001b[0msuper\u001b[0m\u001b[0;34m(\u001b[0m\u001b[0mNUTS\u001b[0m\u001b[0;34m,\u001b[0m \u001b[0mself\u001b[0m\u001b[0;34m)\u001b[0m\u001b[0;34m.\u001b[0m\u001b[0m__init__\u001b[0m\u001b[0;34m(\u001b[0m\u001b[0mvars\u001b[0m\u001b[0;34m,\u001b[0m \u001b[0;34m**\u001b[0m\u001b[0mkwargs\u001b[0m\u001b[0;34m)\u001b[0m\u001b[0;34m\u001b[0m\u001b[0m\n\u001b[0m\u001b[1;32m    153\u001b[0m \u001b[0;34m\u001b[0m\u001b[0m\n\u001b[1;32m    154\u001b[0m         \u001b[0mself\u001b[0m\u001b[0;34m.\u001b[0m\u001b[0mmax_treedepth\u001b[0m \u001b[0;34m=\u001b[0m \u001b[0mmax_treedepth\u001b[0m\u001b[0;34m\u001b[0m\u001b[0m\n",
      "\u001b[0;32m/Users/chris/Desktop/pymc3/pymc3/step_methods/hmc/base_hmc.py\u001b[0m in \u001b[0;36m__init__\u001b[0;34m(self, vars, scaling, step_scale, is_cov, model, blocked, potential, integrator, dtype, Emax, target_accept, gamma, k, t0, adapt_step_size, step_rand, **theano_kwargs)\u001b[0m\n\u001b[1;32m     88\u001b[0m \u001b[0;34m\u001b[0m\u001b[0m\n\u001b[1;32m     89\u001b[0m         \u001b[0;32mif\u001b[0m \u001b[0mpotential\u001b[0m \u001b[0;32mis\u001b[0m \u001b[0;32mnot\u001b[0m \u001b[0;32mNone\u001b[0m\u001b[0;34m:\u001b[0m\u001b[0;34m\u001b[0m\u001b[0m\n\u001b[0;32m---> 90\u001b[0;31m             \u001b[0mself\u001b[0m\u001b[0;34m.\u001b[0m\u001b[0mpotential\u001b[0m \u001b[0;34m=\u001b[0m \u001b[0mpotential\u001b[0m\u001b[0;34m\u001b[0m\u001b[0m\n\u001b[0m\u001b[1;32m     91\u001b[0m         \u001b[0;32melse\u001b[0m\u001b[0;34m:\u001b[0m\u001b[0;34m\u001b[0m\u001b[0m\n\u001b[1;32m     92\u001b[0m             \u001b[0mself\u001b[0m\u001b[0;34m.\u001b[0m\u001b[0mpotential\u001b[0m \u001b[0;34m=\u001b[0m \u001b[0mquad_potential\u001b[0m\u001b[0;34m(\u001b[0m\u001b[0mscaling\u001b[0m\u001b[0;34m,\u001b[0m \u001b[0mis_cov\u001b[0m\u001b[0;34m)\u001b[0m\u001b[0;34m\u001b[0m\u001b[0m\n",
      "\u001b[0;32m/Users/chris/Desktop/pymc3/pymc3/step_methods/hmc/base_hmc.py\u001b[0m in \u001b[0;36m__init__\u001b[0;34m(self, vars, scaling, step_scale, is_cov, model, blocked, potential, integrator, dtype, Emax, target_accept, gamma, k, t0, adapt_step_size, step_rand, **theano_kwargs)\u001b[0m\n\u001b[1;32m     88\u001b[0m \u001b[0;34m\u001b[0m\u001b[0m\n\u001b[1;32m     89\u001b[0m         \u001b[0;32mif\u001b[0m \u001b[0mpotential\u001b[0m \u001b[0;32mis\u001b[0m \u001b[0;32mnot\u001b[0m \u001b[0;32mNone\u001b[0m\u001b[0;34m:\u001b[0m\u001b[0;34m\u001b[0m\u001b[0m\n\u001b[0;32m---> 90\u001b[0;31m             \u001b[0mself\u001b[0m\u001b[0;34m.\u001b[0m\u001b[0mpotential\u001b[0m \u001b[0;34m=\u001b[0m \u001b[0mpotential\u001b[0m\u001b[0;34m\u001b[0m\u001b[0m\n\u001b[0m\u001b[1;32m     91\u001b[0m         \u001b[0;32melse\u001b[0m\u001b[0;34m:\u001b[0m\u001b[0;34m\u001b[0m\u001b[0m\n\u001b[1;32m     92\u001b[0m             \u001b[0mself\u001b[0m\u001b[0;34m.\u001b[0m\u001b[0mpotential\u001b[0m \u001b[0;34m=\u001b[0m \u001b[0mquad_potential\u001b[0m\u001b[0;34m(\u001b[0m\u001b[0mscaling\u001b[0m\u001b[0;34m,\u001b[0m \u001b[0mis_cov\u001b[0m\u001b[0;34m)\u001b[0m\u001b[0;34m\u001b[0m\u001b[0m\n",
      "\u001b[0;32m/Users/chris/anaconda/lib/python3.6/bdb.py\u001b[0m in \u001b[0;36mtrace_dispatch\u001b[0;34m(self, frame, event, arg)\u001b[0m\n\u001b[1;32m     46\u001b[0m             \u001b[0;32mreturn\u001b[0m \u001b[0;31m# None\u001b[0m\u001b[0;34m\u001b[0m\u001b[0m\n\u001b[1;32m     47\u001b[0m         \u001b[0;32mif\u001b[0m \u001b[0mevent\u001b[0m \u001b[0;34m==\u001b[0m \u001b[0;34m'line'\u001b[0m\u001b[0;34m:\u001b[0m\u001b[0;34m\u001b[0m\u001b[0m\n\u001b[0;32m---> 48\u001b[0;31m             \u001b[0;32mreturn\u001b[0m \u001b[0mself\u001b[0m\u001b[0;34m.\u001b[0m\u001b[0mdispatch_line\u001b[0m\u001b[0;34m(\u001b[0m\u001b[0mframe\u001b[0m\u001b[0;34m)\u001b[0m\u001b[0;34m\u001b[0m\u001b[0m\n\u001b[0m\u001b[1;32m     49\u001b[0m         \u001b[0;32mif\u001b[0m \u001b[0mevent\u001b[0m \u001b[0;34m==\u001b[0m \u001b[0;34m'call'\u001b[0m\u001b[0;34m:\u001b[0m\u001b[0;34m\u001b[0m\u001b[0m\n\u001b[1;32m     50\u001b[0m             \u001b[0;32mreturn\u001b[0m \u001b[0mself\u001b[0m\u001b[0;34m.\u001b[0m\u001b[0mdispatch_call\u001b[0m\u001b[0;34m(\u001b[0m\u001b[0mframe\u001b[0m\u001b[0;34m,\u001b[0m \u001b[0marg\u001b[0m\u001b[0;34m)\u001b[0m\u001b[0;34m\u001b[0m\u001b[0m\n",
      "\u001b[0;32m/Users/chris/anaconda/lib/python3.6/bdb.py\u001b[0m in \u001b[0;36mdispatch_line\u001b[0;34m(self, frame)\u001b[0m\n\u001b[1;32m     65\u001b[0m         \u001b[0;32mif\u001b[0m \u001b[0mself\u001b[0m\u001b[0;34m.\u001b[0m\u001b[0mstop_here\u001b[0m\u001b[0;34m(\u001b[0m\u001b[0mframe\u001b[0m\u001b[0;34m)\u001b[0m \u001b[0;32mor\u001b[0m \u001b[0mself\u001b[0m\u001b[0;34m.\u001b[0m\u001b[0mbreak_here\u001b[0m\u001b[0;34m(\u001b[0m\u001b[0mframe\u001b[0m\u001b[0;34m)\u001b[0m\u001b[0;34m:\u001b[0m\u001b[0;34m\u001b[0m\u001b[0m\n\u001b[1;32m     66\u001b[0m             \u001b[0mself\u001b[0m\u001b[0;34m.\u001b[0m\u001b[0muser_line\u001b[0m\u001b[0;34m(\u001b[0m\u001b[0mframe\u001b[0m\u001b[0;34m)\u001b[0m\u001b[0;34m\u001b[0m\u001b[0m\n\u001b[0;32m---> 67\u001b[0;31m             \u001b[0;32mif\u001b[0m \u001b[0mself\u001b[0m\u001b[0;34m.\u001b[0m\u001b[0mquitting\u001b[0m\u001b[0;34m:\u001b[0m \u001b[0;32mraise\u001b[0m \u001b[0mBdbQuit\u001b[0m\u001b[0;34m\u001b[0m\u001b[0m\n\u001b[0m\u001b[1;32m     68\u001b[0m         \u001b[0;32mreturn\u001b[0m \u001b[0mself\u001b[0m\u001b[0;34m.\u001b[0m\u001b[0mtrace_dispatch\u001b[0m\u001b[0;34m\u001b[0m\u001b[0m\n\u001b[1;32m     69\u001b[0m \u001b[0;34m\u001b[0m\u001b[0m\n",
      "\u001b[0;31mBdbQuit\u001b[0m: "
     ]
    }
   ],
   "source": [
    "basic_model2 = pm.Model()\n",
    "with basic_model2:\n",
    "    alpha = pm.Normal(name='alpha',mu=0.0, sd=10.0) \n",
    "    beta = pm.Normal(name='beta', mu=0.0, sd=10.0, shape=2)\n",
    "\n",
    "    mu = alpha + beta[0]*X1 + beta[1]*X2\n",
    "\n",
    "    Y_obs = pm.Normal(name='Y_obs',mu=mu, sd=1.0, observed=Y)\n",
    "\n",
    "    #step = pm.Metropolis()\n",
    "    step = pm.NUTS()\n",
    "    trace = pm.sample(5000,step=step,cores=1,chains=1) # switched off parallel for simplifications. \n",
    "\n",
    "print(np.mean(trace['alpha']))\n",
    "print(np.mean(trace['beta'],axis=0))"
   ]
  },
  {
   "cell_type": "markdown",
   "metadata": {},
   "source": [
    "### Running with TensorFlow backend (restart kernel for a fresh import)\n",
    "\n",
    "After restarting the kernel, I import the local PyMC3 package again, but now I set the backend to be TensorFlow."
   ]
  },
  {
   "cell_type": "code",
   "execution_count": 1,
   "metadata": {},
   "outputs": [
    {
     "name": "stdout",
     "output_type": "stream",
     "text": [
      "/Users/chris/Desktop/pymc3\n"
     ]
    },
    {
     "name": "stderr",
     "output_type": "stream",
     "text": [
      "Using TensorFlow backend.\n"
     ]
    }
   ],
   "source": [
    "import os\n",
    "os.chdir('../../../')\n",
    "print(os.getcwd())\n",
    "import numpy as np\n",
    "os.environ[\"PYMC_SYMB_BACKEND\"] = \"tensorflow\" \n",
    "import pymc3 as pm"
   ]
  },
  {
   "cell_type": "code",
   "execution_count": 2,
   "metadata": {
    "collapsed": true
   },
   "outputs": [],
   "source": [
    "# Initialize random number generator\n",
    "np.random.seed(123)\n",
    "\n",
    "# True parameter values\n",
    "alpha, sigma = 1, 1; beta = [1, 2.5]\n",
    "\n",
    "# Predictor variable\n",
    "X1 = np.random.randn(100)\n",
    "X2 = np.random.randn(100) * 0.2\n",
    "\n",
    "# Simulate outcome variable\n",
    "Y = alpha + beta[0]*X1 + beta[1]*X2 + np.random.randn(100)*sigma\n",
    "Y=Y.astype('float32')"
   ]
  },
  {
   "cell_type": "code",
   "execution_count": 3,
   "metadata": {},
   "outputs": [
    {
     "name": "stderr",
     "output_type": "stream",
     "text": [
      "Sequential sampling (1 chains in 1 job)\n",
      "CompoundStep\n",
      ">Metropolis: [<tf.Variable 'alpha:0' shape=() dtype=float32_ref>]\n",
      ">Metropolis: [<tf.Variable 'beta:0' shape=(2,) dtype=float32_ref>]\n",
      "100%|██████████| 5500/5500 [00:12<00:00, 454.68it/s]\n",
      "Only one chain was sampled, this makes it impossible to run some convergence checks\n"
     ]
    },
    {
     "name": "stdout",
     "output_type": "stream",
     "text": [
      "0.905485\n",
      "[ 0.94781202  2.62093997]\n"
     ]
    }
   ],
   "source": [
    "basic_model2 = pm.Model()\n",
    "with basic_model2:\n",
    "    \n",
    "    # requires initial value now. \n",
    "    # also has to be float at the moment. \n",
    "    alpha = pm.Normal(name='alpha',initial_value=0.0, mu=0.0, sd=10.0) \n",
    "    beta = pm.Normal(name='beta',initial_value=np.array([1.0,1.0],dtype='float32'), mu=0.0, sd=10.0, shape=2)\n",
    "\n",
    "    mu = alpha + beta[0]*X1 + beta[1]*X2\n",
    "\n",
    "    Y_obs = pm.Normal(name='Y_obs',initial_value=np.ones_like(Y), mu=mu, sd=1.0, observed=Y)\n",
    "\n",
    "    step = pm.Metropolis()\n",
    "    trace = pm.sample(5000,step=step,cores=1,chains=1)\n",
    "\n",
    "print(np.mean(trace['alpha:0']))\n",
    "print(np.mean(trace['beta:0'],axis=0))"
   ]
  }
 ],
 "metadata": {
  "hide_input": false,
  "kernelspec": {
   "display_name": "Python 3",
   "language": "python",
   "name": "python3"
  },
  "language_info": {
   "codemirror_mode": {
    "name": "ipython",
    "version": 3
   },
   "file_extension": ".py",
   "mimetype": "text/x-python",
   "name": "python",
   "nbconvert_exporter": "python",
   "pygments_lexer": "ipython3",
   "version": "3.6.1"
  },
  "toc": {
   "nav_menu": {},
   "number_sections": false,
   "sideBar": true,
   "skip_h1_title": false,
   "toc_cell": true,
   "toc_position": {},
   "toc_section_display": "block",
   "toc_window_display": true
  }
 },
 "nbformat": 4,
 "nbformat_minor": 2
}
